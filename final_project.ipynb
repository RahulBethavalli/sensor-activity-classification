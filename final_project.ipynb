{
 "cells": [
  {
   "cell_type": "code",
   "execution_count": 1,
   "id": "ranging-gallery",
   "metadata": {
    "tags": []
   },
   "outputs": [],
   "source": [
    "from sklearn.preprocessing import LabelEncoder, StandardScaler\n",
    "from sklearn.tree import DecisionTreeClassifier\n",
    "from sklearn.ensemble import RandomForestClassifier, StackingClassifier, GradientBoostingClassifier\n",
    "from sklearn.linear_model import LogisticRegression, RidgeClassifier\n",
    "from sklearn.neighbors import KNeighborsClassifier\n",
    "from sklearn.svm import LinearSVC\n",
    "from sklearn.naive_bayes import GaussianNB\n",
    "from sklearn.pipeline import Pipeline\n",
    "from sklearn.model_selection import train_test_split, RandomizedSearchCV, cross_val_score\n",
    "from sklearn.compose import ColumnTransformer\n",
    "from sklearn.metrics import f1_score, confusion_matrix, classification_report, plot_confusion_matrix\n",
    "from sklearn.impute import SimpleImputer\n",
    "from sklearn.base import BaseEstimator\n",
    "\n",
    "from collections import Counter\n",
    "import pandas as pd\n",
    "import numpy as np\n",
    "import matplotlib.pyplot as plt\n",
    "import time\n",
    "import warnings\n",
    "warnings.filterwarnings(\"ignore\")"
   ]
  },
  {
   "cell_type": "markdown",
   "id": "resident-multimedia",
   "metadata": {},
   "source": [
    "Research Question / Hypothesis\n",
    "----\n",
    "\n",
    "\n"
   ]
  },
  {
   "cell_type": "markdown",
   "id": "written-immune",
   "metadata": {},
   "source": [
    "The objective is to classify the activity performed by smartphone users from the readings of various sensors in the smartphone while performing activities of daily living (WALKING, WALKINGUPSTAIRS, WALKINGDOWNSTAIRS, SITTING, STANDING, LAYING)"
   ]
  },
  {
   "cell_type": "code",
   "execution_count": null,
   "id": "smoking-parallel",
   "metadata": {},
   "outputs": [],
   "source": []
  },
  {
   "cell_type": "markdown",
   "id": "checked-dominant",
   "metadata": {},
   "source": [
    "Load Data\n",
    "----"
   ]
  },
  {
   "cell_type": "code",
   "execution_count": 5,
   "id": "universal-dallas",
   "metadata": {
    "tags": []
   },
   "outputs": [],
   "source": [
    "def read_file(filename : str, url : str) -> pd.DataFrame:\n",
    "    \"\"\"Helper Function to fetch data files from github\"\"\"\n",
    "    try:\n",
    "        # Local version of the file\n",
    "        df = pd.read_csv(filename)\n",
    "    except FileNotFoundError or ParserError:\n",
    "        # Grab the remote file and save it    \n",
    "        url = remote_location+filename\n",
    "        df = pd.read_csv(url)\n",
    "        df.to_csv(filename)\n",
    "    return df"
   ]
  },
  {
   "cell_type": "code",
   "execution_count": 6,
   "id": "primary-oliver",
   "metadata": {
    "tags": []
   },
   "outputs": [],
   "source": [
    "remote_location = 'https://raw.githubusercontent.com/RahulBethavalli/sensor-activity-data/main/'"
   ]
  },
  {
   "cell_type": "code",
   "execution_count": 7,
   "id": "analyzed-variety",
   "metadata": {
    "tags": []
   },
   "outputs": [],
   "source": [
    "train_df = read_file('train.csv', remote_location)"
   ]
  },
  {
   "cell_type": "code",
   "execution_count": 8,
   "id": "celtic-reaction",
   "metadata": {
    "tags": []
   },
   "outputs": [],
   "source": [
    "test_df = read_file('test.csv', remote_location)"
   ]
  },
  {
   "cell_type": "code",
   "execution_count": 9,
   "id": "refined-alaska",
   "metadata": {},
   "outputs": [
    {
     "name": "stdout",
     "output_type": "stream",
     "text": [
      "(7352, 563)\n",
      "(2947, 563)\n"
     ]
    }
   ],
   "source": [
    "# Sanity check\n",
    "\n",
    "print(train_df.shape)\n",
    "print(test_df.shape)\n"
   ]
  },
  {
   "cell_type": "code",
   "execution_count": 10,
   "id": "raising-penguin",
   "metadata": {},
   "outputs": [
    {
     "data": {
      "text/html": [
       "<div>\n",
       "<style scoped>\n",
       "    .dataframe tbody tr th:only-of-type {\n",
       "        vertical-align: middle;\n",
       "    }\n",
       "\n",
       "    .dataframe tbody tr th {\n",
       "        vertical-align: top;\n",
       "    }\n",
       "\n",
       "    .dataframe thead th {\n",
       "        text-align: right;\n",
       "    }\n",
       "</style>\n",
       "<table border=\"1\" class=\"dataframe\">\n",
       "  <thead>\n",
       "    <tr style=\"text-align: right;\">\n",
       "      <th></th>\n",
       "      <th>tBodyAcc-mean()-X</th>\n",
       "      <th>tBodyAcc-mean()-Y</th>\n",
       "      <th>tBodyAcc-mean()-Z</th>\n",
       "      <th>tBodyAcc-std()-X</th>\n",
       "      <th>tBodyAcc-std()-Y</th>\n",
       "      <th>tBodyAcc-std()-Z</th>\n",
       "      <th>tBodyAcc-mad()-X</th>\n",
       "      <th>tBodyAcc-mad()-Y</th>\n",
       "      <th>tBodyAcc-mad()-Z</th>\n",
       "      <th>tBodyAcc-max()-X</th>\n",
       "      <th>...</th>\n",
       "      <th>fBodyBodyGyroJerkMag-skewness()</th>\n",
       "      <th>fBodyBodyGyroJerkMag-kurtosis()</th>\n",
       "      <th>angle(tBodyAccMean,gravity)</th>\n",
       "      <th>angle(tBodyAccJerkMean),gravityMean)</th>\n",
       "      <th>angle(tBodyGyroMean,gravityMean)</th>\n",
       "      <th>angle(tBodyGyroJerkMean,gravityMean)</th>\n",
       "      <th>angle(X,gravityMean)</th>\n",
       "      <th>angle(Y,gravityMean)</th>\n",
       "      <th>angle(Z,gravityMean)</th>\n",
       "      <th>subject</th>\n",
       "    </tr>\n",
       "  </thead>\n",
       "  <tbody>\n",
       "    <tr>\n",
       "      <th>count</th>\n",
       "      <td>7352.000000</td>\n",
       "      <td>7352.000000</td>\n",
       "      <td>7352.000000</td>\n",
       "      <td>7352.000000</td>\n",
       "      <td>7352.000000</td>\n",
       "      <td>7352.000000</td>\n",
       "      <td>7352.000000</td>\n",
       "      <td>7352.000000</td>\n",
       "      <td>7352.000000</td>\n",
       "      <td>7352.000000</td>\n",
       "      <td>...</td>\n",
       "      <td>7352.000000</td>\n",
       "      <td>7352.000000</td>\n",
       "      <td>7352.000000</td>\n",
       "      <td>7352.000000</td>\n",
       "      <td>7352.000000</td>\n",
       "      <td>7352.000000</td>\n",
       "      <td>7352.000000</td>\n",
       "      <td>7352.000000</td>\n",
       "      <td>7352.000000</td>\n",
       "      <td>7352.000000</td>\n",
       "    </tr>\n",
       "    <tr>\n",
       "      <th>mean</th>\n",
       "      <td>0.274488</td>\n",
       "      <td>-0.017695</td>\n",
       "      <td>-0.109141</td>\n",
       "      <td>-0.605438</td>\n",
       "      <td>-0.510938</td>\n",
       "      <td>-0.604754</td>\n",
       "      <td>-0.630512</td>\n",
       "      <td>-0.526907</td>\n",
       "      <td>-0.606150</td>\n",
       "      <td>-0.468604</td>\n",
       "      <td>...</td>\n",
       "      <td>-0.307009</td>\n",
       "      <td>-0.625294</td>\n",
       "      <td>0.008684</td>\n",
       "      <td>0.002186</td>\n",
       "      <td>0.008726</td>\n",
       "      <td>-0.005981</td>\n",
       "      <td>-0.489547</td>\n",
       "      <td>0.058593</td>\n",
       "      <td>-0.056515</td>\n",
       "      <td>17.413085</td>\n",
       "    </tr>\n",
       "    <tr>\n",
       "      <th>std</th>\n",
       "      <td>0.070261</td>\n",
       "      <td>0.040811</td>\n",
       "      <td>0.056635</td>\n",
       "      <td>0.448734</td>\n",
       "      <td>0.502645</td>\n",
       "      <td>0.418687</td>\n",
       "      <td>0.424073</td>\n",
       "      <td>0.485942</td>\n",
       "      <td>0.414122</td>\n",
       "      <td>0.544547</td>\n",
       "      <td>...</td>\n",
       "      <td>0.321011</td>\n",
       "      <td>0.307584</td>\n",
       "      <td>0.336787</td>\n",
       "      <td>0.448306</td>\n",
       "      <td>0.608303</td>\n",
       "      <td>0.477975</td>\n",
       "      <td>0.511807</td>\n",
       "      <td>0.297480</td>\n",
       "      <td>0.279122</td>\n",
       "      <td>8.975143</td>\n",
       "    </tr>\n",
       "    <tr>\n",
       "      <th>min</th>\n",
       "      <td>-1.000000</td>\n",
       "      <td>-1.000000</td>\n",
       "      <td>-1.000000</td>\n",
       "      <td>-1.000000</td>\n",
       "      <td>-0.999873</td>\n",
       "      <td>-1.000000</td>\n",
       "      <td>-1.000000</td>\n",
       "      <td>-1.000000</td>\n",
       "      <td>-1.000000</td>\n",
       "      <td>-1.000000</td>\n",
       "      <td>...</td>\n",
       "      <td>-0.995357</td>\n",
       "      <td>-0.999765</td>\n",
       "      <td>-0.976580</td>\n",
       "      <td>-1.000000</td>\n",
       "      <td>-1.000000</td>\n",
       "      <td>-1.000000</td>\n",
       "      <td>-1.000000</td>\n",
       "      <td>-1.000000</td>\n",
       "      <td>-1.000000</td>\n",
       "      <td>1.000000</td>\n",
       "    </tr>\n",
       "    <tr>\n",
       "      <th>25%</th>\n",
       "      <td>0.262975</td>\n",
       "      <td>-0.024863</td>\n",
       "      <td>-0.120993</td>\n",
       "      <td>-0.992754</td>\n",
       "      <td>-0.978129</td>\n",
       "      <td>-0.980233</td>\n",
       "      <td>-0.993591</td>\n",
       "      <td>-0.978162</td>\n",
       "      <td>-0.980251</td>\n",
       "      <td>-0.936219</td>\n",
       "      <td>...</td>\n",
       "      <td>-0.542602</td>\n",
       "      <td>-0.845573</td>\n",
       "      <td>-0.121527</td>\n",
       "      <td>-0.289549</td>\n",
       "      <td>-0.482273</td>\n",
       "      <td>-0.376341</td>\n",
       "      <td>-0.812065</td>\n",
       "      <td>-0.017885</td>\n",
       "      <td>-0.143414</td>\n",
       "      <td>8.000000</td>\n",
       "    </tr>\n",
       "    <tr>\n",
       "      <th>50%</th>\n",
       "      <td>0.277193</td>\n",
       "      <td>-0.017219</td>\n",
       "      <td>-0.108676</td>\n",
       "      <td>-0.946196</td>\n",
       "      <td>-0.851897</td>\n",
       "      <td>-0.859365</td>\n",
       "      <td>-0.950709</td>\n",
       "      <td>-0.857328</td>\n",
       "      <td>-0.857143</td>\n",
       "      <td>-0.881637</td>\n",
       "      <td>...</td>\n",
       "      <td>-0.343685</td>\n",
       "      <td>-0.711692</td>\n",
       "      <td>0.009509</td>\n",
       "      <td>0.008943</td>\n",
       "      <td>0.008735</td>\n",
       "      <td>-0.000368</td>\n",
       "      <td>-0.709417</td>\n",
       "      <td>0.182071</td>\n",
       "      <td>0.003181</td>\n",
       "      <td>19.000000</td>\n",
       "    </tr>\n",
       "    <tr>\n",
       "      <th>75%</th>\n",
       "      <td>0.288461</td>\n",
       "      <td>-0.010783</td>\n",
       "      <td>-0.097794</td>\n",
       "      <td>-0.242813</td>\n",
       "      <td>-0.034231</td>\n",
       "      <td>-0.262415</td>\n",
       "      <td>-0.292680</td>\n",
       "      <td>-0.066701</td>\n",
       "      <td>-0.265671</td>\n",
       "      <td>-0.017129</td>\n",
       "      <td>...</td>\n",
       "      <td>-0.126979</td>\n",
       "      <td>-0.503878</td>\n",
       "      <td>0.150865</td>\n",
       "      <td>0.292861</td>\n",
       "      <td>0.506187</td>\n",
       "      <td>0.359368</td>\n",
       "      <td>-0.509079</td>\n",
       "      <td>0.248353</td>\n",
       "      <td>0.107659</td>\n",
       "      <td>26.000000</td>\n",
       "    </tr>\n",
       "    <tr>\n",
       "      <th>max</th>\n",
       "      <td>1.000000</td>\n",
       "      <td>1.000000</td>\n",
       "      <td>1.000000</td>\n",
       "      <td>1.000000</td>\n",
       "      <td>0.916238</td>\n",
       "      <td>1.000000</td>\n",
       "      <td>1.000000</td>\n",
       "      <td>0.967664</td>\n",
       "      <td>1.000000</td>\n",
       "      <td>1.000000</td>\n",
       "      <td>...</td>\n",
       "      <td>0.989538</td>\n",
       "      <td>0.956845</td>\n",
       "      <td>1.000000</td>\n",
       "      <td>1.000000</td>\n",
       "      <td>0.998702</td>\n",
       "      <td>0.996078</td>\n",
       "      <td>1.000000</td>\n",
       "      <td>0.478157</td>\n",
       "      <td>1.000000</td>\n",
       "      <td>30.000000</td>\n",
       "    </tr>\n",
       "  </tbody>\n",
       "</table>\n",
       "<p>8 rows × 562 columns</p>\n",
       "</div>"
      ],
      "text/plain": [
       "       tBodyAcc-mean()-X  tBodyAcc-mean()-Y  tBodyAcc-mean()-Z  \\\n",
       "count        7352.000000        7352.000000        7352.000000   \n",
       "mean            0.274488          -0.017695          -0.109141   \n",
       "std             0.070261           0.040811           0.056635   \n",
       "min            -1.000000          -1.000000          -1.000000   \n",
       "25%             0.262975          -0.024863          -0.120993   \n",
       "50%             0.277193          -0.017219          -0.108676   \n",
       "75%             0.288461          -0.010783          -0.097794   \n",
       "max             1.000000           1.000000           1.000000   \n",
       "\n",
       "       tBodyAcc-std()-X  tBodyAcc-std()-Y  tBodyAcc-std()-Z  tBodyAcc-mad()-X  \\\n",
       "count       7352.000000       7352.000000       7352.000000       7352.000000   \n",
       "mean          -0.605438         -0.510938         -0.604754         -0.630512   \n",
       "std            0.448734          0.502645          0.418687          0.424073   \n",
       "min           -1.000000         -0.999873         -1.000000         -1.000000   \n",
       "25%           -0.992754         -0.978129         -0.980233         -0.993591   \n",
       "50%           -0.946196         -0.851897         -0.859365         -0.950709   \n",
       "75%           -0.242813         -0.034231         -0.262415         -0.292680   \n",
       "max            1.000000          0.916238          1.000000          1.000000   \n",
       "\n",
       "       tBodyAcc-mad()-Y  tBodyAcc-mad()-Z  tBodyAcc-max()-X  ...  \\\n",
       "count       7352.000000       7352.000000       7352.000000  ...   \n",
       "mean          -0.526907         -0.606150         -0.468604  ...   \n",
       "std            0.485942          0.414122          0.544547  ...   \n",
       "min           -1.000000         -1.000000         -1.000000  ...   \n",
       "25%           -0.978162         -0.980251         -0.936219  ...   \n",
       "50%           -0.857328         -0.857143         -0.881637  ...   \n",
       "75%           -0.066701         -0.265671         -0.017129  ...   \n",
       "max            0.967664          1.000000          1.000000  ...   \n",
       "\n",
       "       fBodyBodyGyroJerkMag-skewness()  fBodyBodyGyroJerkMag-kurtosis()  \\\n",
       "count                      7352.000000                      7352.000000   \n",
       "mean                         -0.307009                        -0.625294   \n",
       "std                           0.321011                         0.307584   \n",
       "min                          -0.995357                        -0.999765   \n",
       "25%                          -0.542602                        -0.845573   \n",
       "50%                          -0.343685                        -0.711692   \n",
       "75%                          -0.126979                        -0.503878   \n",
       "max                           0.989538                         0.956845   \n",
       "\n",
       "       angle(tBodyAccMean,gravity)  angle(tBodyAccJerkMean),gravityMean)  \\\n",
       "count                  7352.000000                           7352.000000   \n",
       "mean                      0.008684                              0.002186   \n",
       "std                       0.336787                              0.448306   \n",
       "min                      -0.976580                             -1.000000   \n",
       "25%                      -0.121527                             -0.289549   \n",
       "50%                       0.009509                              0.008943   \n",
       "75%                       0.150865                              0.292861   \n",
       "max                       1.000000                              1.000000   \n",
       "\n",
       "       angle(tBodyGyroMean,gravityMean)  angle(tBodyGyroJerkMean,gravityMean)  \\\n",
       "count                       7352.000000                           7352.000000   \n",
       "mean                           0.008726                             -0.005981   \n",
       "std                            0.608303                              0.477975   \n",
       "min                           -1.000000                             -1.000000   \n",
       "25%                           -0.482273                             -0.376341   \n",
       "50%                            0.008735                             -0.000368   \n",
       "75%                            0.506187                              0.359368   \n",
       "max                            0.998702                              0.996078   \n",
       "\n",
       "       angle(X,gravityMean)  angle(Y,gravityMean)  angle(Z,gravityMean)  \\\n",
       "count           7352.000000           7352.000000           7352.000000   \n",
       "mean              -0.489547              0.058593             -0.056515   \n",
       "std                0.511807              0.297480              0.279122   \n",
       "min               -1.000000             -1.000000             -1.000000   \n",
       "25%               -0.812065             -0.017885             -0.143414   \n",
       "50%               -0.709417              0.182071              0.003181   \n",
       "75%               -0.509079              0.248353              0.107659   \n",
       "max                1.000000              0.478157              1.000000   \n",
       "\n",
       "           subject  \n",
       "count  7352.000000  \n",
       "mean     17.413085  \n",
       "std       8.975143  \n",
       "min       1.000000  \n",
       "25%       8.000000  \n",
       "50%      19.000000  \n",
       "75%      26.000000  \n",
       "max      30.000000  \n",
       "\n",
       "[8 rows x 562 columns]"
      ]
     },
     "execution_count": 10,
     "metadata": {},
     "output_type": "execute_result"
    }
   ],
   "source": [
    "train_df.describe()"
   ]
  },
  {
   "cell_type": "code",
   "execution_count": 14,
   "id": "chubby-county",
   "metadata": {},
   "outputs": [
    {
     "data": {
      "text/html": [
       "<div>\n",
       "<style scoped>\n",
       "    .dataframe tbody tr th:only-of-type {\n",
       "        vertical-align: middle;\n",
       "    }\n",
       "\n",
       "    .dataframe tbody tr th {\n",
       "        vertical-align: top;\n",
       "    }\n",
       "\n",
       "    .dataframe thead th {\n",
       "        text-align: right;\n",
       "    }\n",
       "</style>\n",
       "<table border=\"1\" class=\"dataframe\">\n",
       "  <thead>\n",
       "    <tr style=\"text-align: right;\">\n",
       "      <th></th>\n",
       "      <th>angle(X,gravityMean)</th>\n",
       "      <th>Activity</th>\n",
       "    </tr>\n",
       "  </thead>\n",
       "  <tbody>\n",
       "    <tr>\n",
       "      <th>0</th>\n",
       "      <td>-0.841247</td>\n",
       "      <td>STANDING</td>\n",
       "    </tr>\n",
       "    <tr>\n",
       "      <th>1</th>\n",
       "      <td>-0.844788</td>\n",
       "      <td>STANDING</td>\n",
       "    </tr>\n",
       "    <tr>\n",
       "      <th>2</th>\n",
       "      <td>-0.848933</td>\n",
       "      <td>STANDING</td>\n",
       "    </tr>\n",
       "    <tr>\n",
       "      <th>3</th>\n",
       "      <td>-0.848649</td>\n",
       "      <td>STANDING</td>\n",
       "    </tr>\n",
       "    <tr>\n",
       "      <th>4</th>\n",
       "      <td>-0.847865</td>\n",
       "      <td>STANDING</td>\n",
       "    </tr>\n",
       "    <tr>\n",
       "      <th>...</th>\n",
       "      <td>...</td>\n",
       "      <td>...</td>\n",
       "    </tr>\n",
       "    <tr>\n",
       "      <th>7347</th>\n",
       "      <td>-0.791883</td>\n",
       "      <td>WALKING_UPSTAIRS</td>\n",
       "    </tr>\n",
       "    <tr>\n",
       "      <th>7348</th>\n",
       "      <td>-0.771840</td>\n",
       "      <td>WALKING_UPSTAIRS</td>\n",
       "    </tr>\n",
       "    <tr>\n",
       "      <th>7349</th>\n",
       "      <td>-0.779133</td>\n",
       "      <td>WALKING_UPSTAIRS</td>\n",
       "    </tr>\n",
       "    <tr>\n",
       "      <th>7350</th>\n",
       "      <td>-0.785181</td>\n",
       "      <td>WALKING_UPSTAIRS</td>\n",
       "    </tr>\n",
       "    <tr>\n",
       "      <th>7351</th>\n",
       "      <td>-0.783267</td>\n",
       "      <td>WALKING_UPSTAIRS</td>\n",
       "    </tr>\n",
       "  </tbody>\n",
       "</table>\n",
       "<p>7352 rows × 2 columns</p>\n",
       "</div>"
      ],
      "text/plain": [
       "      angle(X,gravityMean)          Activity\n",
       "0                -0.841247          STANDING\n",
       "1                -0.844788          STANDING\n",
       "2                -0.848933          STANDING\n",
       "3                -0.848649          STANDING\n",
       "4                -0.847865          STANDING\n",
       "...                    ...               ...\n",
       "7347             -0.791883  WALKING_UPSTAIRS\n",
       "7348             -0.771840  WALKING_UPSTAIRS\n",
       "7349             -0.779133  WALKING_UPSTAIRS\n",
       "7350             -0.785181  WALKING_UPSTAIRS\n",
       "7351             -0.783267  WALKING_UPSTAIRS\n",
       "\n",
       "[7352 rows x 2 columns]"
      ]
     },
     "execution_count": 14,
     "metadata": {},
     "output_type": "execute_result"
    }
   ],
   "source": [
    "train_df[['angle(X,gravityMean)', 'Activity']]"
   ]
  },
  {
   "cell_type": "code",
   "execution_count": 40,
   "id": "alone-oxford",
   "metadata": {
    "tags": []
   },
   "outputs": [
    {
     "data": {
      "text/html": [
       "<div>\n",
       "<style scoped>\n",
       "    .dataframe tbody tr th:only-of-type {\n",
       "        vertical-align: middle;\n",
       "    }\n",
       "\n",
       "    .dataframe tbody tr th {\n",
       "        vertical-align: top;\n",
       "    }\n",
       "\n",
       "    .dataframe thead th {\n",
       "        text-align: right;\n",
       "    }\n",
       "</style>\n",
       "<table border=\"1\" class=\"dataframe\">\n",
       "  <thead>\n",
       "    <tr style=\"text-align: right;\">\n",
       "      <th></th>\n",
       "      <th>count</th>\n",
       "    </tr>\n",
       "  </thead>\n",
       "  <tbody>\n",
       "    <tr>\n",
       "      <th>fBodyAcc</th>\n",
       "      <td>79</td>\n",
       "    </tr>\n",
       "    <tr>\n",
       "      <th>fBodyGyro</th>\n",
       "      <td>79</td>\n",
       "    </tr>\n",
       "    <tr>\n",
       "      <th>fBodyAccJerk</th>\n",
       "      <td>79</td>\n",
       "    </tr>\n",
       "    <tr>\n",
       "      <th>tGravityAcc</th>\n",
       "      <td>40</td>\n",
       "    </tr>\n",
       "    <tr>\n",
       "      <th>tBodyAcc</th>\n",
       "      <td>40</td>\n",
       "    </tr>\n",
       "    <tr>\n",
       "      <th>tBodyGyroJerk</th>\n",
       "      <td>40</td>\n",
       "    </tr>\n",
       "    <tr>\n",
       "      <th>tBodyGyro</th>\n",
       "      <td>40</td>\n",
       "    </tr>\n",
       "    <tr>\n",
       "      <th>tBodyAccJerk</th>\n",
       "      <td>40</td>\n",
       "    </tr>\n",
       "    <tr>\n",
       "      <th>tBodyAccMag</th>\n",
       "      <td>13</td>\n",
       "    </tr>\n",
       "    <tr>\n",
       "      <th>tGravityAccMag</th>\n",
       "      <td>13</td>\n",
       "    </tr>\n",
       "    <tr>\n",
       "      <th>tBodyAccJerkMag</th>\n",
       "      <td>13</td>\n",
       "    </tr>\n",
       "    <tr>\n",
       "      <th>tBodyGyroMag</th>\n",
       "      <td>13</td>\n",
       "    </tr>\n",
       "    <tr>\n",
       "      <th>tBodyGyroJerkMag</th>\n",
       "      <td>13</td>\n",
       "    </tr>\n",
       "    <tr>\n",
       "      <th>fBodyAccMag</th>\n",
       "      <td>13</td>\n",
       "    </tr>\n",
       "    <tr>\n",
       "      <th>fBodyBodyAccJerkMag</th>\n",
       "      <td>13</td>\n",
       "    </tr>\n",
       "    <tr>\n",
       "      <th>fBodyBodyGyroMag</th>\n",
       "      <td>13</td>\n",
       "    </tr>\n",
       "    <tr>\n",
       "      <th>fBodyBodyGyroJerkMag</th>\n",
       "      <td>13</td>\n",
       "    </tr>\n",
       "    <tr>\n",
       "      <th>angle</th>\n",
       "      <td>7</td>\n",
       "    </tr>\n",
       "    <tr>\n",
       "      <th>subject</th>\n",
       "      <td>1</td>\n",
       "    </tr>\n",
       "    <tr>\n",
       "      <th>Activity</th>\n",
       "      <td>1</td>\n",
       "    </tr>\n",
       "  </tbody>\n",
       "</table>\n",
       "</div>"
      ],
      "text/plain": [
       "                      count\n",
       "fBodyAcc                 79\n",
       "fBodyGyro                79\n",
       "fBodyAccJerk             79\n",
       "tGravityAcc              40\n",
       "tBodyAcc                 40\n",
       "tBodyGyroJerk            40\n",
       "tBodyGyro                40\n",
       "tBodyAccJerk             40\n",
       "tBodyAccMag              13\n",
       "tGravityAccMag           13\n",
       "tBodyAccJerkMag          13\n",
       "tBodyGyroMag             13\n",
       "tBodyGyroJerkMag         13\n",
       "fBodyAccMag              13\n",
       "fBodyBodyAccJerkMag      13\n",
       "fBodyBodyGyroMag         13\n",
       "fBodyBodyGyroJerkMag     13\n",
       "angle                     7\n",
       "subject                   1\n",
       "Activity                  1"
      ]
     },
     "execution_count": 40,
     "metadata": {},
     "output_type": "execute_result"
    }
   ],
   "source": [
    "# Look at the columns and group the columns taken from similar sensors. \n",
    "\n",
    "pd.DataFrame.from_dict(Counter([col.split('-')[0].split('(')[0] for col in train_df.columns]), \\\n",
    "                       orient='index').rename(columns={0:'count'}).sort_values('count', ascending=False)"
   ]
  },
  {
   "cell_type": "code",
   "execution_count": null,
   "id": "expensive-retro",
   "metadata": {},
   "outputs": [],
   "source": []
  },
  {
   "cell_type": "code",
   "execution_count": null,
   "id": "phantom-casting",
   "metadata": {},
   "outputs": [],
   "source": []
  },
  {
   "cell_type": "code",
   "execution_count": 149,
   "id": "skilled-france",
   "metadata": {
    "tags": []
   },
   "outputs": [
    {
     "name": "stdout",
     "output_type": "stream",
     "text": [
      "False\n",
      "False\n"
     ]
    }
   ],
   "source": [
    "# Check if data has any missing values\n",
    "\n",
    "print(train_df.isnull().values.any())\n",
    "print(test_df.isnull().values.any())"
   ]
  },
  {
   "cell_type": "code",
   "execution_count": null,
   "id": "prompt-worry",
   "metadata": {},
   "outputs": [],
   "source": []
  },
  {
   "cell_type": "code",
   "execution_count": 43,
   "id": "possible-eating",
   "metadata": {
    "tags": []
   },
   "outputs": [],
   "source": [
    "# After examining the features, dropping subject id as it is not a predictive feature\n",
    "\n",
    "train_df = train_df.drop(columns=['subject']) "
   ]
  },
  {
   "cell_type": "code",
   "execution_count": 44,
   "id": "bored-endorsement",
   "metadata": {
    "tags": []
   },
   "outputs": [
    {
     "data": {
      "text/plain": [
       "float64    561\n",
       "object       1\n",
       "dtype: int64"
      ]
     },
     "execution_count": 44,
     "metadata": {},
     "output_type": "execute_result"
    }
   ],
   "source": [
    "# Print Value counts of the datatypes\n",
    "\n",
    "train_df.dtypes.value_counts() "
   ]
  },
  {
   "cell_type": "code",
   "execution_count": 45,
   "id": "geological-cycling",
   "metadata": {
    "tags": []
   },
   "outputs": [
    {
     "data": {
      "text/plain": [
       "float64    561\n",
       "object       1\n",
       "dtype: int64"
      ]
     },
     "execution_count": 45,
     "metadata": {},
     "output_type": "execute_result"
    }
   ],
   "source": [
    "test_df.dtypes.value_counts()"
   ]
  },
  {
   "cell_type": "code",
   "execution_count": null,
   "id": "genetic-business",
   "metadata": {
    "collapsed": true,
    "jupyter": {
     "outputs_hidden": true
    }
   },
   "outputs": [],
   "source": []
  },
  {
   "cell_type": "code",
   "execution_count": 151,
   "id": "fleet-auditor",
   "metadata": {
    "tags": []
   },
   "outputs": [
    {
     "data": {
      "text/plain": [
       "0    1407\n",
       "2    1374\n",
       "1    1286\n",
       "3    1226\n",
       "5    1073\n",
       "4     986\n",
       "Name: Activity, dtype: int64"
      ]
     },
     "execution_count": 151,
     "metadata": {},
     "output_type": "execute_result"
    }
   ],
   "source": [
    "# Making sure it is a balanced data. If not would leverage oversampling techniques\n",
    "\n",
    "train_df.Activity.value_counts()"
   ]
  },
  {
   "cell_type": "code",
   "execution_count": null,
   "id": "minute-authorization",
   "metadata": {
    "tags": []
   },
   "outputs": [],
   "source": []
  },
  {
   "cell_type": "code",
   "execution_count": null,
   "id": "hairy-place",
   "metadata": {},
   "outputs": [],
   "source": []
  },
  {
   "cell_type": "markdown",
   "id": "impressive-massachusetts",
   "metadata": {},
   "source": [
    "#### Target Encoding"
   ]
  },
  {
   "cell_type": "code",
   "execution_count": null,
   "id": "turkish-selling",
   "metadata": {},
   "outputs": [],
   "source": []
  },
  {
   "cell_type": "code",
   "execution_count": 49,
   "id": "opened-hands",
   "metadata": {
    "tags": []
   },
   "outputs": [],
   "source": [
    "# As the target variable has categorical data, encoding it with LabelEncoder\n",
    "# LabelEncoder can be used in this case since there are not many distinct classes in target\n",
    "\n",
    "le = LabelEncoder()\n",
    "\n",
    "train_df['Activity'] = le.fit_transform(train_df['Activity'])"
   ]
  },
  {
   "cell_type": "code",
   "execution_count": 50,
   "id": "acknowledged-detective",
   "metadata": {
    "tags": []
   },
   "outputs": [
    {
     "data": {
      "text/plain": [
       "0    1407\n",
       "2    1374\n",
       "1    1286\n",
       "3    1226\n",
       "5    1073\n",
       "4     986\n",
       "Name: Activity, dtype: int64"
      ]
     },
     "execution_count": 50,
     "metadata": {},
     "output_type": "execute_result"
    }
   ],
   "source": [
    "# Verifying the encoding\n",
    "\n",
    "train_df.Activity.value_counts()"
   ]
  },
  {
   "cell_type": "code",
   "execution_count": 70,
   "id": "special-jersey",
   "metadata": {
    "tags": []
   },
   "outputs": [],
   "source": [
    "# Divide the loaded data into features and target\n",
    "\n",
    "X = train_df.drop(columns='Activity')\n",
    "y = train_df['Activity']"
   ]
  },
  {
   "cell_type": "code",
   "execution_count": null,
   "id": "comparable-significance",
   "metadata": {},
   "outputs": [],
   "source": [
    "# Split the training data into train and validation sets.\n",
    "\n",
    "X_train, X_valid, y_train, y_valid = train_test_split(X, y, random_state = 99)"
   ]
  },
  {
   "cell_type": "markdown",
   "id": "rolled-period",
   "metadata": {},
   "source": [
    "#### MultiClass Classification Algorithms"
   ]
  },
  {
   "cell_type": "code",
   "execution_count": 103,
   "id": "reduced-handy",
   "metadata": {
    "tags": []
   },
   "outputs": [],
   "source": [
    "# Select most relevant multiclass classification algorithms supported by sklearn \n",
    "# Initial Run of these algorithms to roughly determine a baseline model.\n",
    "\n",
    "\n",
    "clf_algos = [\n",
    "    LogisticRegression(solver='liblinear'),  # Since the dataset is small enough, using liblinear solver\n",
    "    GaussianNB(),\n",
    "    DecisionTreeClassifier(),\n",
    "    RandomForestClassifier(),\n",
    "    RidgeClassifier(),\n",
    "    KNeighborsClassifier(7),                 # Using 7 nearest neighbors since there are 6 target classes to break ties. \n",
    "    LinearSVC()\n",
    "]"
   ]
  },
  {
   "cell_type": "code",
   "execution_count": 105,
   "id": "forbidden-turner",
   "metadata": {
    "tags": []
   },
   "outputs": [
    {
     "name": "stdout",
     "output_type": "stream",
     "text": [
      "LogisticRegression - f1 score on validation set: 0.98573152\n",
      "GaussianNB - f1 score on validation set: 0.73741088\n",
      "DecisionTreeClassifier - f1 score on validation set: 0.93944152\n",
      "RandomForestClassifier - f1 score on validation set: 0.98099479\n",
      "RidgeClassifier - f1 score on validation set: 0.98175501\n",
      "KNeighborsClassifier - f1 score on validation set: 0.96076958\n",
      "LinearSVC - f1 score on validation set: 0.98549643\n"
     ]
    },
    {
     "name": "stderr",
     "output_type": "stream",
     "text": [
      "/Users/rahulbethavalli/opt/anaconda3/envs/ml/lib/python3.8/site-packages/sklearn/svm/_base.py:974: ConvergenceWarning: Liblinear failed to converge, increase the number of iterations.\n",
      "  warnings.warn(\"Liblinear failed to converge, increase \"\n"
     ]
    }
   ],
   "source": [
    "# Programmatically determine which naive models give good accuracy\n",
    "# Using an imputer in case we get any missing values when predicting for future datasets into the pipeline.\n",
    "\n",
    "for clf_algo in clf_algos:\n",
    "    pipe = Pipeline([('scaler', StandardScaler()),  # Normalize the readings\n",
    "                     ('imputer', SimpleImputer(strategy='median', add_indicator=True)),  \n",
    "                     ('clf', clf_algo)])\n",
    "\n",
    "\n",
    "    pipe.fit(X_train, y_train)\n",
    "    y_pred = pipe.predict(X_valid)\n",
    "    # Since accuracy can be misleading, using f1_score to get good estimate of how model performs\n",
    "    score = f1_score(y_valid, y_pred, average='macro')\n",
    "    print(f\"{clf_algo.__class__.__name__} - f1 score on validation set: {score:,.2f}\")\n",
    "    "
   ]
  },
  {
   "cell_type": "code",
   "execution_count": null,
   "id": "ongoing-price",
   "metadata": {},
   "outputs": [],
   "source": []
  },
  {
   "cell_type": "markdown",
   "id": "signal-czech",
   "metadata": {},
   "source": [
    "We observe that we get decent model performance from different classifiers. Picking top three as model candidates.\n",
    "- LogisticRegression\n",
    "- RandomForestClassifier\n",
    "- LinearSVC"
   ]
  },
  {
   "cell_type": "code",
   "execution_count": null,
   "id": "monthly-brass",
   "metadata": {},
   "outputs": [],
   "source": []
  },
  {
   "cell_type": "markdown",
   "id": "earlier-replacement",
   "metadata": {},
   "source": [
    "#### Model and Hyperparameter tuning using Randomzed Search with Cross Validation"
   ]
  },
  {
   "cell_type": "code",
   "execution_count": 154,
   "id": "sealed-neutral",
   "metadata": {
    "tags": []
   },
   "outputs": [],
   "source": [
    "# Create Placeholder Estimator to use different algorithms\n",
    "\n",
    "class DummyEstimator(BaseEstimator):\n",
    "    def fit(self): pass\n",
    "    def score(self): pass\n"
   ]
  },
  {
   "cell_type": "code",
   "execution_count": 112,
   "id": "mighty-fever",
   "metadata": {
    "collapsed": true,
    "jupyter": {
     "outputs_hidden": true
    }
   },
   "outputs": [],
   "source": [
    "# Create a pipeline using the dummy estimator\n",
    "\n",
    "pipe = Pipeline([('sc', StandardScaler()),\n",
    "                 ('imputer', SimpleImputer(strategy='median', add_indicator=True)),\n",
    "                ('clf', DummyEstimator())]) # Placeholder Estimator"
   ]
  },
  {
   "cell_type": "code",
   "execution_count": 117,
   "id": "early-joshua",
   "metadata": {
    "collapsed": true,
    "jupyter": {
     "outputs_hidden": true
    }
   },
   "outputs": [
    {
     "name": "stdout",
     "output_type": "stream",
     "text": [
      "Fitting 5 folds for each of 25 candidates, totalling 125 fits\n"
     ]
    },
    {
     "name": "stderr",
     "output_type": "stream",
     "text": [
      "[Parallel(n_jobs=-1)]: Using backend LokyBackend with 4 concurrent workers.\n",
      "[Parallel(n_jobs=-1)]: Done  42 tasks      | elapsed:  2.6min\n",
      "[Parallel(n_jobs=-1)]: Done 125 out of 125 | elapsed: 11.6min finished\n",
      "/Users/rahulbethavalli/opt/anaconda3/envs/ml/lib/python3.8/site-packages/sklearn/linear_model/_logistic.py:1351: UserWarning: 'n_jobs' > 1 does not have any effect when 'solver' is set to 'liblinear'. Got 'n_jobs' = 4.\n",
      "  warnings.warn(\"'n_jobs' > 1 does not have any effect when\"\n"
     ]
    }
   ],
   "source": [
    "# Create search space of candidate classifier algorithms and their hyperparameters\n",
    "\n",
    "search_space = [{'clf': [LogisticRegression(solver = 'liblinear')], # Actual Estimator\n",
    "                 'clf__penalty': ['l1', 'l2'],                      # Penalty scores for regularisation\n",
    "                 'clf__C': np.logspace(0, 4, 10),                   # Inverse of regularisation parameter.\n",
    "                 'clf__class_weight': [None, 'balanced'],           # Balanced class weight, weighs the predictions using the ratio of class frequencies \n",
    "                 'clf__n_jobs': [-1]                                \n",
    "                },\n",
    "                \n",
    "                {'clf': [RandomForestClassifier()],\n",
    "                 'clf__n_estimators': [10, 50, 100],                # No of trees that can be fit in the forest\n",
    "                 'clf__criterion': ['gini', 'entropy'],             # Different impurity scores for the predictions \n",
    "                 'clf__max_depth': [5,20,50,100,200],               # Maimum depth of the trees \n",
    "                 'clf__min_samples_leaf': [np.arange(3, 10)],       # Minimum observations in a leaf node\n",
    "                 'clf__bootstrap': [False, True],                   # flag to select bootstrapping of training data\n",
    "                 'clf__n_jobs': [-1]\n",
    "                },\n",
    "                \n",
    "               {'clf': [LinearSVC()],\n",
    "                'clf__penalty': ['l1', 'l2'],                       # Penalty l1 and l2 for regularisation\n",
    "                'clf__multi_class': ['ovr', 'crammer_singer'],      # ovr for OnevsRest approach\n",
    "                'clf__max_iter': [2000, 5000],                      # Maximum Iterations for the model before converging\n",
    "                'clf__C': np.logspace(0, 4, 10),                    # Regularisation parameter used\n",
    "               }]\n",
    "\n",
    "# Random Search for the possible combinations of the search space\n",
    "clf_algos_rand = RandomizedSearchCV(estimator=pipe, \n",
    "                                    param_distributions=search_space, \n",
    "                                    n_iter=25,\n",
    "                                    cv=5, \n",
    "                                    n_jobs=-1,\n",
    "                                    verbose=1)\n",
    "\n",
    "\n",
    "# Fit the training data\n",
    "best_model = clf_algos_rand.fit(X_train, y_train)\n"
   ]
  },
  {
   "cell_type": "code",
   "execution_count": 118,
   "id": "several-wisdom",
   "metadata": {
    "tags": []
   },
   "outputs": [
    {
     "data": {
      "text/plain": [
       "LogisticRegression(C=2.7825594022071245, n_jobs=-1, penalty='l1',\n",
       "                   solver='liblinear')"
      ]
     },
     "execution_count": 118,
     "metadata": {},
     "output_type": "execute_result"
    }
   ],
   "source": [
    "# View best model\n",
    "best_model.best_estimator_.get_params()['clf']"
   ]
  },
  {
   "cell_type": "code",
   "execution_count": 120,
   "id": "answering-collection",
   "metadata": {
    "tags": []
   },
   "outputs": [
    {
     "data": {
      "text/plain": [
       "Pipeline(steps=[('sc', StandardScaler()),\n",
       "                ('imputer',\n",
       "                 SimpleImputer(add_indicator=True, strategy='median')),\n",
       "                ('clf',\n",
       "                 LogisticRegression(C=2.7825594022071245, n_jobs=-1,\n",
       "                                    penalty='l1', solver='liblinear'))])"
      ]
     },
     "execution_count": 120,
     "metadata": {},
     "output_type": "execute_result"
    }
   ],
   "source": [
    "# Print the best estimator\n",
    "best_model.best_estimator_"
   ]
  },
  {
   "cell_type": "code",
   "execution_count": 121,
   "id": "several-admission",
   "metadata": {
    "collapsed": true,
    "jupyter": {
     "outputs_hidden": true
    }
   },
   "outputs": [],
   "source": [
    "pipe_final = Pipeline(steps=[('sc', StandardScaler()),\n",
    "                ('imputer',\n",
    "                 SimpleImputer(add_indicator=True, strategy='median')),\n",
    "                ('clf',\n",
    "                 LogisticRegression(C=2.7825594022071245, n_jobs=-1,\n",
    "                                    penalty='l1', solver='liblinear'))])"
   ]
  },
  {
   "cell_type": "code",
   "execution_count": 125,
   "id": "refined-injection",
   "metadata": {
    "tags": []
   },
   "outputs": [
    {
     "name": "stderr",
     "output_type": "stream",
     "text": [
      "/Users/rahulbethavalli/opt/anaconda3/envs/ml/lib/python3.8/site-packages/sklearn/linear_model/_logistic.py:1351: UserWarning: 'n_jobs' > 1 does not have any effect when 'solver' is set to 'liblinear'. Got 'n_jobs' = 4.\n",
      "  warnings.warn(\"'n_jobs' > 1 does not have any effect when\"\n"
     ]
    },
    {
     "name": "stdout",
     "output_type": "stream",
     "text": [
      "best model f1 score on training set: 0.99726575\n",
      "best model f1 score on validation set: 0.98677565\n"
     ]
    }
   ],
   "source": [
    "# Fit the best model from random search with training data and evaluate the score for validation data. \n",
    "\n",
    "pipe_final.fit(X_train, y_train)\n",
    "y_pred_train = pipe_final.predict(X_train)\n",
    "y_pred_valid = pipe_final.predict(X_valid)\n",
    "train_score = f1_score(y_train, y_pred_train, average='macro')\n",
    "valid_score = f1_score(y_valid, y_pred_valid, average='macro')\n",
    "print(f\"best model f1 score on training set: {train_score:,.2f}\")\n",
    "print(f\"best model f1 score on validation set: {valid_score:,.2f}\")"
   ]
  },
  {
   "cell_type": "code",
   "execution_count": null,
   "id": "contained-suffering",
   "metadata": {
    "collapsed": true,
    "jupyter": {
     "outputs_hidden": true
    }
   },
   "outputs": [],
   "source": []
  },
  {
   "cell_type": "code",
   "execution_count": 127,
   "id": "fleet-washington",
   "metadata": {
    "tags": []
   },
   "outputs": [
    {
     "name": "stderr",
     "output_type": "stream",
     "text": [
      "/Users/rahulbethavalli/opt/anaconda3/envs/ml/lib/python3.8/site-packages/sklearn/linear_model/_logistic.py:1351: UserWarning: 'n_jobs' > 1 does not have any effect when 'solver' is set to 'liblinear'. Got 'n_jobs' = 4.\n",
      "  warnings.warn(\"'n_jobs' > 1 does not have any effect when\"\n",
      "/Users/rahulbethavalli/opt/anaconda3/envs/ml/lib/python3.8/site-packages/sklearn/linear_model/_logistic.py:1351: UserWarning: 'n_jobs' > 1 does not have any effect when 'solver' is set to 'liblinear'. Got 'n_jobs' = 4.\n",
      "  warnings.warn(\"'n_jobs' > 1 does not have any effect when\"\n",
      "/Users/rahulbethavalli/opt/anaconda3/envs/ml/lib/python3.8/site-packages/sklearn/linear_model/_logistic.py:1351: UserWarning: 'n_jobs' > 1 does not have any effect when 'solver' is set to 'liblinear'. Got 'n_jobs' = 4.\n",
      "  warnings.warn(\"'n_jobs' > 1 does not have any effect when\"\n",
      "/Users/rahulbethavalli/opt/anaconda3/envs/ml/lib/python3.8/site-packages/sklearn/linear_model/_logistic.py:1351: UserWarning: 'n_jobs' > 1 does not have any effect when 'solver' is set to 'liblinear'. Got 'n_jobs' = 4.\n",
      "  warnings.warn(\"'n_jobs' > 1 does not have any effect when\"\n",
      "/Users/rahulbethavalli/opt/anaconda3/envs/ml/lib/python3.8/site-packages/sklearn/linear_model/_logistic.py:1351: UserWarning: 'n_jobs' > 1 does not have any effect when 'solver' is set to 'liblinear'. Got 'n_jobs' = 4.\n",
      "  warnings.warn(\"'n_jobs' > 1 does not have any effect when\"\n",
      "/Users/rahulbethavalli/opt/anaconda3/envs/ml/lib/python3.8/site-packages/sklearn/linear_model/_logistic.py:1351: UserWarning: 'n_jobs' > 1 does not have any effect when 'solver' is set to 'liblinear'. Got 'n_jobs' = 4.\n",
      "  warnings.warn(\"'n_jobs' > 1 does not have any effect when\"\n",
      "/Users/rahulbethavalli/opt/anaconda3/envs/ml/lib/python3.8/site-packages/sklearn/linear_model/_logistic.py:1351: UserWarning: 'n_jobs' > 1 does not have any effect when 'solver' is set to 'liblinear'. Got 'n_jobs' = 4.\n",
      "  warnings.warn(\"'n_jobs' > 1 does not have any effect when\"\n",
      "/Users/rahulbethavalli/opt/anaconda3/envs/ml/lib/python3.8/site-packages/sklearn/linear_model/_logistic.py:1351: UserWarning: 'n_jobs' > 1 does not have any effect when 'solver' is set to 'liblinear'. Got 'n_jobs' = 4.\n",
      "  warnings.warn(\"'n_jobs' > 1 does not have any effect when\"\n",
      "/Users/rahulbethavalli/opt/anaconda3/envs/ml/lib/python3.8/site-packages/sklearn/linear_model/_logistic.py:1351: UserWarning: 'n_jobs' > 1 does not have any effect when 'solver' is set to 'liblinear'. Got 'n_jobs' = 4.\n",
      "  warnings.warn(\"'n_jobs' > 1 does not have any effect when\"\n",
      "/Users/rahulbethavalli/opt/anaconda3/envs/ml/lib/python3.8/site-packages/sklearn/linear_model/_logistic.py:1351: UserWarning: 'n_jobs' > 1 does not have any effect when 'solver' is set to 'liblinear'. Got 'n_jobs' = 4.\n",
      "  warnings.warn(\"'n_jobs' > 1 does not have any effect when\"\n"
     ]
    },
    {
     "name": "stdout",
     "output_type": "stream",
     "text": [
      "0.94812 accuracy with a standard deviation of 0.05640\n"
     ]
    }
   ],
   "source": [
    "# Perform Cross validation to look at the variance of the model\n",
    "\n",
    "cross_val_scores = cross_val_score(estimator=pipe_final, \n",
    "                X=X, \n",
    "                y=y, \n",
    "                cv=10, \n",
    "                scoring='f1_macro')\n",
    "\n",
    "print(\"%0.2f f1_score with a standard deviation of %0.2f\" % (cross_val_scores.mean(), cross_val_scores.std()))"
   ]
  },
  {
   "cell_type": "code",
   "execution_count": null,
   "id": "filled-veteran",
   "metadata": {
    "collapsed": true,
    "jupyter": {
     "outputs_hidden": true
    }
   },
   "outputs": [],
   "source": []
  },
  {
   "cell_type": "markdown",
   "id": "cardiac-graph",
   "metadata": {},
   "source": [
    "The cross validation mean f1 score for the best model from the hyperparameter search is 94.81 which is pretty good for a classification model. "
   ]
  },
  {
   "cell_type": "code",
   "execution_count": null,
   "id": "analyzed-kansas",
   "metadata": {},
   "outputs": [],
   "source": []
  },
  {
   "cell_type": "markdown",
   "id": "crazy-baking",
   "metadata": {},
   "source": [
    "Since we saw few weaker models with good enough f1 scores from the initial programmatical search of algorithms, we can try stacking them together to create an ensemble of classifiers which might result in a better model than our single best classifier from our random search"
   ]
  },
  {
   "cell_type": "code",
   "execution_count": null,
   "id": "wireless-runner",
   "metadata": {},
   "outputs": [],
   "source": []
  },
  {
   "cell_type": "markdown",
   "id": "worldwide-discussion",
   "metadata": {},
   "source": [
    "#### Stacked Model"
   ]
  },
  {
   "cell_type": "code",
   "execution_count": 146,
   "id": "sorted-consciousness",
   "metadata": {},
   "outputs": [],
   "source": [
    "# Stacking is appropriate when multiple different machine learning models have skill on a dataset, \n",
    "# but have different classification techniques. Hence we go with diverse classifiers in our stack.\n",
    "\n",
    "estimators = [\n",
    "        ('rf' ,RandomForestClassifier()),\n",
    "        ('knn', KNeighborsClassifier(7)),\n",
    "        ('ls', LinearSVC()),\n",
    "        ('lc', LogisticRegression(solver = 'liblinear')),\n",
    "]\n",
    "\n",
    "stacked_clf = StackingClassifier(\n",
    "    estimators=estimators, \n",
    "    final_estimator=GradientBoostingClassifier()\n",
    ")\n",
    "\n",
    "pipe_stacked_clf = Pipeline([('sc', StandardScaler()),\n",
    "                 ('imputer', SimpleImputer(strategy='median', add_indicator=True)),\n",
    "                ('stacked_clf', stacked_clf)])\n"
   ]
  },
  {
   "cell_type": "code",
   "execution_count": 147,
   "id": "liberal-shuttle",
   "metadata": {},
   "outputs": [
    {
     "name": "stdout",
     "output_type": "stream",
     "text": [
      "best model f1 score on training set: 1.00\n",
      "best model f1 score on validation set: 0.99\n"
     ]
    }
   ],
   "source": [
    "# Fit the stacked model on training data and evaluate the f1_scores for validation set.\n",
    "\n",
    "pipe_stacked_clf.fit(X_train, y_train)\n",
    "y_pred_train = pipe_stacked_clf.predict(X_train)\n",
    "y_pred_valid = pipe_stacked_clf.predict(X_valid)\n",
    "train_score = f1_score(y_train, y_pred_train, average='macro')\n",
    "valid_score = f1_score(y_valid, y_pred_valid, average='macro')\n",
    "print(f\"best model f1 score on training set: {train_score:,.2f}\")\n",
    "print(f\"best model f1 score on validation set: {valid_score:,.2f}\")"
   ]
  },
  {
   "cell_type": "code",
   "execution_count": 148,
   "id": "democratic-latex",
   "metadata": {},
   "outputs": [
    {
     "name": "stdout",
     "output_type": "stream",
     "text": [
      "0.94 f1_score with a standard deviation of 0.05\n"
     ]
    }
   ],
   "source": [
    "# Perform Cross validation to look at the variance of the stacked model\n",
    "\n",
    "cross_val_scores = cross_val_score(estimator=pipe_stacked_clf, \n",
    "                X=X, \n",
    "                y=y, \n",
    "                cv=10, \n",
    "                scoring='f1_macro')\n",
    "\n",
    "print(\"%0.2f f1_score with a standard deviation of %0.2f\" % (cross_val_scores.mean(), cross_val_scores.std()))"
   ]
  },
  {
   "cell_type": "code",
   "execution_count": null,
   "id": "graphic-wales",
   "metadata": {},
   "outputs": [],
   "source": []
  },
  {
   "cell_type": "markdown",
   "id": "athletic-smooth",
   "metadata": {},
   "source": [
    "The cross validation score implies that the stacked model more or less performs the same as the LogisticRegression model from the randomized search. Moreover, the stacked model takes more time to train and predict than a single LogisticRegression model.\n",
    "\n",
    "We can conclude that the Logistic Regression Estimator is our final model candidate."
   ]
  },
  {
   "cell_type": "code",
   "execution_count": null,
   "id": "listed-maker",
   "metadata": {},
   "outputs": [],
   "source": []
  },
  {
   "cell_type": "markdown",
   "id": "ready-durham",
   "metadata": {},
   "source": [
    "#### Evaluate Performance of best model "
   ]
  },
  {
   "cell_type": "code",
   "execution_count": 128,
   "id": "economic-scanning",
   "metadata": {
    "collapsed": true,
    "jupyter": {
     "outputs_hidden": true
    }
   },
   "outputs": [],
   "source": [
    "# Split test data to features and response\n",
    "\n",
    "test_df['Activity'] = le.fit_transform(test_df['Activity'])  # Use same encoder from training to encode test targets.\n",
    "\n",
    "X_test = test_df.drop(columns='Activity')\n",
    "y_test = test_df['Activity']"
   ]
  },
  {
   "cell_type": "code",
   "execution_count": null,
   "id": "ecological-village",
   "metadata": {},
   "outputs": [],
   "source": [
    "# Best Estimator\n",
    "pipe_final = Pipeline(steps=[('sc', StandardScaler()),\n",
    "                ('imputer',\n",
    "                 SimpleImputer(add_indicator=True, strategy='median')),\n",
    "                ('clf',\n",
    "                 LogisticRegression(C=2.7825594022071245, n_jobs=-1,\n",
    "                                    penalty='l1', solver='liblinear'))])"
   ]
  },
  {
   "cell_type": "code",
   "execution_count": 129,
   "id": "competent-domain",
   "metadata": {
    "tags": []
   },
   "outputs": [
    {
     "name": "stderr",
     "output_type": "stream",
     "text": [
      "/Users/rahulbethavalli/opt/anaconda3/envs/ml/lib/python3.8/site-packages/sklearn/linear_model/_logistic.py:1351: UserWarning: 'n_jobs' > 1 does not have any effect when 'solver' is set to 'liblinear'. Got 'n_jobs' = 4.\n",
      "  warnings.warn(\"'n_jobs' > 1 does not have any effect when\"\n"
     ]
    },
    {
     "name": "stdout",
     "output_type": "stream",
     "text": [
      "best model f1 score on test set: 0.96\n"
     ]
    }
   ],
   "source": [
    "# Fit best model with entire training data\n",
    "pipe_final.fit(X, y)\n",
    "\n",
    "y_pred = pipe_final.predict(X_test)\n",
    "\n",
    "test_score = f1_score(y_test, y_pred, average='macro')\n",
    "\n",
    "print(f\"best model f1 score on test set: {test_score:,.2f}\")"
   ]
  },
  {
   "cell_type": "code",
   "execution_count": 134,
   "id": "fewer-selection",
   "metadata": {
    "collapsed": true,
    "jupyter": {
     "outputs_hidden": true
    }
   },
   "outputs": [],
   "source": [
    "# Inverse encode and get target labels from numbers.\n",
    "\n",
    "y_test_label = list(le.inverse_transform(y_test))\n",
    "y_pred_label = list(le.inverse_transform(y_pred))"
   ]
  },
  {
   "cell_type": "code",
   "execution_count": 139,
   "id": "touched-edition",
   "metadata": {
    "tags": []
   },
   "outputs": [
    {
     "data": {
      "text/plain": [
       "array(['LAYING', 'SITTING', 'STANDING', 'WALKING', 'WALKING_DOWNSTAIRS',\n",
       "       'WALKING_UPSTAIRS'], dtype=object)"
      ]
     },
     "execution_count": 139,
     "metadata": {},
     "output_type": "execute_result"
    }
   ],
   "source": [
    "le.classes_"
   ]
  },
  {
   "cell_type": "code",
   "execution_count": 143,
   "id": "enclosed-local",
   "metadata": {
    "tags": []
   },
   "outputs": [
    {
     "data": {
      "image/png": "[encoded data removed]",
      "text/plain": [
       "<Figure size 432x288 with 2 Axes>"
      ]
     },
     "metadata": {
      "needs_background": "light"
     },
     "output_type": "display_data"
    }
   ],
   "source": [
    "# Plot the confusion matrix for the test set\n",
    "conf_mat = confusion_matrix(y_test_label, y_pred_label)\n",
    "\n",
    "\n",
    "plot_confusion_matrix(pipe_final, X_test, y_test,\n",
    "                                 display_labels=le.classes_,\n",
    "                                 cmap=plt.cm.Blues,\n",
    "                                 normalize=None, xticks_rotation = 'vertical');"
   ]
  },
  {
   "cell_type": "markdown",
   "id": "false-favor",
   "metadata": {},
   "source": [
    "From the confusion matrix, we can evaluate which targets are likely to be misclassified by the model and tweak the model accordingly. \n",
    "In this case, we can see that the model oftens performs badly and confuses between SITTING and STANDING activites which also makes sense since there is no motion captured by the accelerometer during both the activites and our model has a hard time classifying them into one or other. It miscalssified 60 instances of sitting as standing which is important to note."
   ]
  },
  {
   "cell_type": "code",
   "execution_count": 135,
   "id": "greek-gather",
   "metadata": {
    "tags": []
   },
   "outputs": [
    {
     "name": "stdout",
     "output_type": "stream",
     "text": [
      "                    precision    recall  f1-score   support\n",
      "\n",
      "            LAYING       1.00      1.00      1.00       537\n",
      "           SITTING       0.97      0.87      0.92       491\n",
      "          STANDING       0.90      0.97      0.93       532\n",
      "           WALKING       0.96      0.99      0.97       496\n",
      "WALKING_DOWNSTAIRS       1.00      0.98      0.99       420\n",
      "  WALKING_UPSTAIRS       0.97      0.96      0.96       471\n",
      "\n",
      "          accuracy                           0.96      2947\n",
      "         macro avg       0.97      0.96      0.96      2947\n",
      "      weighted avg       0.96      0.96      0.96      2947\n",
      "\n"
     ]
    }
   ],
   "source": [
    "# Classification Report for the test set using the best model.\n",
    "print(classification_report(y_test_label, y_pred_label))"
   ]
  },
  {
   "cell_type": "code",
   "execution_count": null,
   "id": "vanilla-bahrain",
   "metadata": {
    "tags": []
   },
   "outputs": [],
   "source": []
  },
  {
   "cell_type": "markdown",
   "id": "contrary-workshop",
   "metadata": {},
   "source": [
    "We choose f1_score as the evaluation metric since accuracy can be misleading in the case of classification scenarios.\n",
    "F1 score is a combination of both precision and recall of the model on the data and from better f1 scores we can estimate for multiple target classes how the model performed in classifying the data. \n",
    "This will also give an intuition on the how often the model has misclassified certain targets as false negatives.\n",
    "\n",
    "From the classification report, we observe the individual precision and recalls for the traget classes. The recall for sitting is less as inferred from the confusion matrix. The precision for standing is lesser since our model tends to classify them as sitting. \n"
   ]
  },
  {
   "cell_type": "code",
   "execution_count": null,
   "id": "expensive-collect",
   "metadata": {},
   "outputs": [],
   "source": []
  },
  {
   "cell_type": "code",
   "execution_count": null,
   "id": "distant-keeping",
   "metadata": {},
   "outputs": [],
   "source": []
  },
  {
   "cell_type": "code",
   "execution_count": null,
   "id": "coupled-occupation",
   "metadata": {},
   "outputs": [],
   "source": []
  },
  {
   "cell_type": "code",
   "execution_count": null,
   "id": "defined-consensus",
   "metadata": {},
   "outputs": [],
   "source": []
  },
  {
   "cell_type": "code",
   "execution_count": 155,
   "id": "crude-sigma",
   "metadata": {},
   "outputs": [],
   "source": [
    "from sklearn.inspection import permutation_importance\n",
    "\n",
    "r = permutation_importance(pipe_final, \n",
    "                           X_test, y_test, # Using a held-out set makes it possible to highlight which features contribute the most to the generalization power of the inspected model. \n",
    "                           n_repeats=10,\n",
    "                           random_state=99)"
   ]
  },
  {
   "cell_type": "code",
   "execution_count": 160,
   "id": "varying-teaching",
   "metadata": {},
   "outputs": [
    {
     "name": "stdout",
     "output_type": "stream",
     "text": [
      "tBodyGyroJerk-entropy()-X - 0.202 ± 0.007\n",
      "tBodyAccJerk-entropy()-Z - 0.048 ± 0.003\n",
      "tGravityAcc-mean()-Y - 0.048 ± 0.005\n",
      "tGravityAcc-mean()-X - 0.037 ± 0.003\n",
      "tGravityAcc-min()-X - 0.026 ± 0.002\n",
      "tGravityAcc-max()-X - 0.023 ± 0.003\n",
      "fBodyGyro-entropy()-X - 0.022 ± 0.002\n",
      "tBodyGyroJerk-entropy()-Y - 0.020 ± 0.002\n",
      "fBodyAccMag-energy() - 0.017 ± 0.002\n",
      "tBodyAcc-min()-Z - 0.014 ± 0.002\n"
     ]
    }
   ],
   "source": [
    "# According to the model, the top 10 important features for predicting the targets are:\n",
    "\n",
    "count = 0\n",
    "for i in r.importances_mean.argsort()[::-1]:\n",
    "    print(f\"{X.columns[i]} - \"\n",
    "          f\"{r.importances_mean[i]:.3f}\"\n",
    "          f\" ± {r.importances_std[i]:.3f}\")\n",
    "    count += 1\n",
    "    if count == 10:\n",
    "        break\n",
    "        "
   ]
  },
  {
   "cell_type": "code",
   "execution_count": null,
   "id": "unnecessary-lesson",
   "metadata": {},
   "outputs": [],
   "source": []
  },
  {
   "cell_type": "code",
   "execution_count": null,
   "id": "worst-landscape",
   "metadata": {},
   "outputs": [],
   "source": []
  },
  {
   "cell_type": "code",
   "execution_count": null,
   "id": "prostate-pathology",
   "metadata": {},
   "outputs": [],
   "source": []
  },
  {
   "cell_type": "markdown",
   "id": "educated-humidity",
   "metadata": {
    "jupyter": {
     "outputs_hidden": true
    }
   },
   "source": [
    "## Final Model\n"
   ]
  },
  {
   "cell_type": "markdown",
   "id": "vulnerable-migration",
   "metadata": {
    "jupyter": {
     "outputs_hidden": true
    }
   },
   "source": [
    "From the above results, the proposed final model is LogisticRegression Classifier for classification of acitivties from the sensor activity readings"
   ]
  },
  {
   "cell_type": "code",
   "execution_count": 165,
   "id": "afraid-trailer",
   "metadata": {},
   "outputs": [
    {
     "data": {
      "text/plain": [
       "LogisticRegression(C=2.7825594022071245, n_jobs=-1, penalty='l1',\n",
       "                   solver='liblinear')"
      ]
     },
     "execution_count": 165,
     "metadata": {},
     "output_type": "execute_result"
    }
   ],
   "source": [
    "# Final Model\n",
    "pipe_final.get_params()['clf']"
   ]
  },
  {
   "cell_type": "code",
   "execution_count": 166,
   "id": "ranking-softball",
   "metadata": {
    "tags": []
   },
   "outputs": [
    {
     "data": {
      "text/plain": [
       "Pipeline(steps=[('sc', StandardScaler()),\n",
       "                ('imputer',\n",
       "                 SimpleImputer(add_indicator=True, strategy='median')),\n",
       "                ('clf',\n",
       "                 LogisticRegression(C=2.7825594022071245, n_jobs=-1,\n",
       "                                    penalty='l1', solver='liblinear'))])"
      ]
     },
     "execution_count": 166,
     "metadata": {},
     "output_type": "execute_result"
    }
   ],
   "source": [
    "# Pipeline Steps\n",
    "pipe_final"
   ]
  },
  {
   "cell_type": "code",
   "execution_count": 167,
   "id": "infrared-outline",
   "metadata": {
    "tags": []
   },
   "outputs": [
    {
     "data": {
      "text/plain": [
       "{'C': 2.7825594022071245,\n",
       " 'class_weight': None,\n",
       " 'dual': False,\n",
       " 'fit_intercept': True,\n",
       " 'intercept_scaling': 1,\n",
       " 'l1_ratio': None,\n",
       " 'max_iter': 100,\n",
       " 'multi_class': 'auto',\n",
       " 'n_jobs': -1,\n",
       " 'penalty': 'l1',\n",
       " 'random_state': None,\n",
       " 'solver': 'liblinear',\n",
       " 'tol': 0.0001,\n",
       " 'verbose': 0,\n",
       " 'warm_start': False}"
      ]
     },
     "execution_count": 167,
     "metadata": {},
     "output_type": "execute_result"
    }
   ],
   "source": [
    "#Final Model Parameters\n",
    "pipe_final.get_params()['clf'].get_params()"
   ]
  },
  {
   "cell_type": "code",
   "execution_count": null,
   "id": "encouraging-rainbow",
   "metadata": {},
   "outputs": [],
   "source": []
  },
  {
   "cell_type": "markdown",
   "id": "sized-harrison",
   "metadata": {},
   "source": [
    "The best model for classifying the daily activities of humans from the readings of sensors in a smartphone is a LogisticRegression multiclass model with a l1 penalty with an f1 metric of 0.96. \n",
    "\n",
    "The stacked model didnot work as expected which can be because of overfitting on the training data and since it takes a lot of runtime it is difficult to scale in production. The simple logistic regression model can used as production grade which can process real time feed from the smartphones and analyse the type of activity being done by the user.\n",
    "\n",
    "One significant observation is that it is difficult to predict similar activities like Sitting,Standing where there is less  difference in the readings of accelerometer and gyrometer. We may need additional information/data to tackle these kinds of limitations.\n",
    "\n",
    "HAR classification can be useful in many fileds like healthcare, fitness industry etc. The end user can be given recommendations/ suggestions based on these activities which makes \n",
    "\n",
    "As the target classes scale, we can monitor additional features and maybe timestamp related data to determine how long the activity has been carried out, determine unique user specific activity patterns for instance identifying an user based on the walking style."
   ]
  }
 ],
 "metadata": {
  "kernelspec": {
   "display_name": "Python 3",
   "language": "python",
   "name": "python3"
  },
  "language_info": {
   "codemirror_mode": {
    "name": "ipython",
    "version": 3
   },
   "file_extension": ".py",
   "mimetype": "text/x-python",
   "name": "python",
   "nbconvert_exporter": "python",
   "pygments_lexer": "ipython3",
   "version": "3.8.5"
  }
 },
 "nbformat": 4,
 "nbformat_minor": 5
}
